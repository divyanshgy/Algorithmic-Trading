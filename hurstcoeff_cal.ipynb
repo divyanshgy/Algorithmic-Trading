{
 "cells": [
  {
   "cell_type": "code",
   "execution_count": 1,
   "id": "90662a75",
   "metadata": {},
   "outputs": [],
   "source": [
    "import numpy as np\n",
    "import pandas as pd\n",
    "from hurst import compute_Hc "
   ]
  },
  {
   "cell_type": "code",
   "execution_count": 2,
   "id": "de2c066d",
   "metadata": {},
   "outputs": [],
   "source": [
    "df=pd.read_csv('/Users/divyansh/Documents/ACA/Nifty_50_Stocks_day_data/BAJFINANCE.csv')"
   ]
  },
  {
   "cell_type": "code",
   "execution_count": 3,
   "id": "20db60dd",
   "metadata": {},
   "outputs": [],
   "source": [
    "prices=df['close'].values"
   ]
  },
  {
   "cell_type": "code",
   "execution_count": 4,
   "id": "15e24773",
   "metadata": {},
   "outputs": [],
   "source": [
    "H, c, data=compute_Hc(prices, kind='price', simplified=True)"
   ]
  },
  {
   "cell_type": "code",
   "execution_count": 5,
   "id": "186a3680",
   "metadata": {},
   "outputs": [
    {
     "name": "stdout",
     "output_type": "stream",
     "text": [
      "Hurst exponent: 0.8553510814911682\n",
      "Random Walk coefficient: 0.469246143584249\n"
     ]
    }
   ],
   "source": [
    "print(\"Hurst exponent:\", H)\n",
    "print(\"Random Walk coefficient:\", c)"
   ]
  },
  {
   "cell_type": "code",
   "execution_count": null,
   "id": "f2c0f827",
   "metadata": {},
   "outputs": [],
   "source": []
  }
 ],
 "metadata": {
  "kernelspec": {
   "display_name": "Python 3 (ipykernel)",
   "language": "python",
   "name": "python3"
  },
  "language_info": {
   "codemirror_mode": {
    "name": "ipython",
    "version": 3
   },
   "file_extension": ".py",
   "mimetype": "text/x-python",
   "name": "python",
   "nbconvert_exporter": "python",
   "pygments_lexer": "ipython3",
   "version": "3.9.12"
  }
 },
 "nbformat": 4,
 "nbformat_minor": 5
}
